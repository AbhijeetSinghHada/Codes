{
 "cells": [
  {
   "cell_type": "markdown",
   "metadata": {},
   "source": [
    "100 Questions Of Python"
   ]
  },
  {
   "cell_type": "code",
   "execution_count": 1,
   "metadata": {},
   "outputs": [
    {
     "name": "stdout",
     "output_type": "stream",
     "text": [
      "18\n"
     ]
    }
   ],
   "source": [
    "# Question 1 Variable Updating\n",
    "\n",
    "a = 2\n",
    "a = 4\n",
    "a = 6\n",
    "print(a + a + a)"
   ]
  },
  {
   "cell_type": "code",
   "execution_count": 3,
   "metadata": {},
   "outputs": [
    {
     "ename": "SyntaxError",
     "evalue": "invalid decimal literal (878741478.py, line 7)",
     "output_type": "error",
     "traceback": [
      "\u001b[1;36m  Cell \u001b[1;32mIn[3], line 7\u001b[1;36m\u001b[0m\n\u001b[1;33m    2a = 4\u001b[0m\n\u001b[1;37m    ^\u001b[0m\n\u001b[1;31mSyntaxError\u001b[0m\u001b[1;31m:\u001b[0m invalid decimal literal\n"
     ]
    }
   ],
   "source": [
    "# Exercise 2 - Naming Rules\n",
    "\n",
    "a = 1\n",
    "_a = 2\n",
    "_a2 = 3\n",
    "2a = 4"
   ]
  },
  {
   "cell_type": "code",
   "execution_count": 5,
   "metadata": {},
   "outputs": [
    {
     "name": "stdout",
     "output_type": "stream",
     "text": [
      "False\n"
     ]
    },
    {
     "ename": "NameError",
     "evalue": "name 'c' is not defined",
     "output_type": "error",
     "traceback": [
      "\u001b[1;31m---------------------------------------------------------------------------\u001b[0m",
      "\u001b[1;31mNameError\u001b[0m                                 Traceback (most recent call last)",
      "Cell \u001b[1;32mIn[5], line 8\u001b[0m\n\u001b[0;32m      6\u001b[0m b \u001b[39m=\u001b[39m \u001b[39m2\u001b[39m\n\u001b[0;32m      7\u001b[0m \u001b[39mprint\u001b[39m(a \u001b[39m==\u001b[39m b)\n\u001b[1;32m----> 8\u001b[0m \u001b[39mprint\u001b[39m(b \u001b[39m==\u001b[39m c)\n",
      "\u001b[1;31mNameError\u001b[0m: name 'c' is not defined"
     ]
    }
   ],
   "source": [
    "# Exercise 3 - Compare vs Assign\n",
    "\n",
    "# Question: Executing the code will throw an error. Can you explain why?\n",
    "\n",
    "a = 1\n",
    "b = 2\n",
    "print(a == b)\n",
    "print(b == c)"
   ]
  },
  {
   "cell_type": "code",
   "execution_count": 1,
   "metadata": {},
   "outputs": [
    {
     "name": "stdout",
     "output_type": "stream",
     "text": [
      "3\n"
     ]
    }
   ],
   "source": [
    "# Exercise 4 - TypeError\n",
    "\n",
    "# Question: Fix the last line so that it outputs the sum of 1 and 2. Please do not change the first two lines, only the last one.\n",
    "\n",
    "a = \"1\"\n",
    "b = 2\n",
    "print(int(a) + b)"
   ]
  },
  {
   "cell_type": "code",
   "execution_count": 2,
   "metadata": {},
   "outputs": [
    {
     "name": "stdout",
     "output_type": "stream",
     "text": [
      "b\n"
     ]
    }
   ],
   "source": [
    "# Exercise 5 - Sequence Indexing\n",
    "\n",
    "\n",
    "\n",
    "# Question: Complete the script so that it prints out the second item of the list.\n",
    "\n",
    "letters = [\"a\", \"b\", \"c\", \"d\", \"e\", \"f\", \"g\", \"h\", \"i\", \"j\"]\n",
    "print(letters[1])\n",
    "# Expected output: \n",
    "\n",
    "# b"
   ]
  },
  {
   "cell_type": "code",
   "execution_count": 3,
   "metadata": {},
   "outputs": [
    {
     "name": "stdout",
     "output_type": "stream",
     "text": [
      "['d', 'e', 'f']\n"
     ]
    }
   ],
   "source": [
    "# Exercise 6 - Sequence Slicing\n",
    "\n",
    "# Question: Please complete the script so that it prints out a list slice containing items d , e , and f .\n",
    "\n",
    "letters = [\"a\", \"b\", \"c\", \"d\", \"e\", \"f\", \"g\", \"h\", \"i\", \"j\"]\n",
    "print(letters[3:6])\n",
    "# Expected output: \n",
    "\n",
    "# ['d', 'e', 'f'] "
   ]
  },
  {
   "cell_type": "code",
   "execution_count": 4,
   "metadata": {},
   "outputs": [
    {
     "name": "stdout",
     "output_type": "stream",
     "text": [
      "['a', 'b', 'c']\n"
     ]
    }
   ],
   "source": [
    "# Exercise 7 - Sequence Slicing\n",
    "\n",
    "# Question: List slicing is important in various data manipulation activities. Let's do a few more exercises on that.\n",
    "\n",
    "# Please complete the script so that it prints out the first three items of list letters.\n",
    "\n",
    "letters = [\"a\", \"b\", \"c\", \"d\", \"e\", \"f\", \"g\", \"h\", \"i\", \"j\"]\n",
    "print(letters[:3])\n",
    "\n",
    "\n",
    "# Expected output: \n",
    "\n",
    "# ['a', 'b', 'c'] "
   ]
  },
  {
   "cell_type": "code",
   "execution_count": 5,
   "metadata": {},
   "outputs": [
    {
     "name": "stdout",
     "output_type": "stream",
     "text": [
      "i\n"
     ]
    }
   ],
   "source": [
    "# Exercise 8 - Negative Indexing\n",
    "\n",
    "# Question: Complete the script so that it prints out the letter i  using negative indexing.\n",
    "\n",
    "letters = [\"a\", \"b\", \"c\", \"d\", \"e\", \"f\", \"g\", \"h\", \"i\", \"j\"]\n",
    "print(letters[-2])\n",
    "# Expected output: \n",
    "\n",
    "# i \n",
    "\n"
   ]
  },
  {
   "cell_type": "code",
   "execution_count": 6,
   "metadata": {},
   "outputs": [
    {
     "name": "stdout",
     "output_type": "stream",
     "text": [
      "['h', 'i', 'j']\n"
     ]
    }
   ],
   "source": [
    "# Exercise 9 - Negative Slicing\n",
    "\n",
    "# Question: Complete the script so that it prints out a list slice containing the last three items of the list letters .\n",
    "\n",
    "letters = [\"a\", \"b\", \"c\", \"d\", \"e\", \"f\", \"g\", \"h\", \"i\", \"j\"]\n",
    "print(letters[-3:])\n",
    "# Expected output:\n",
    "\n",
    "# ['h', 'i', 'j'] "
   ]
  },
  {
   "cell_type": "code",
   "execution_count": 7,
   "metadata": {},
   "outputs": [
    {
     "name": "stdout",
     "output_type": "stream",
     "text": [
      "['a', 'c', 'e', 'g', 'i']\n"
     ]
    }
   ],
   "source": [
    "# Exercise 10 - Sequence Item Picking\n",
    "\n",
    "# Question: Complete the script so that it prints out a list slice containing letters a, c, e, g, and i. \n",
    "\n",
    "letters = [\"a\", \"b\", \"c\", \"d\", \"e\", \"f\", \"g\", \"h\", \"i\", \"j\"]\n",
    "print(letters[::2])\n",
    "# Expected output: \n",
    "\n",
    "# ['a', 'c', 'e', 'g', 'i'] "
   ]
  },
  {
   "cell_type": "code",
   "execution_count": 9,
   "metadata": {},
   "outputs": [
    {
     "name": "stdout",
     "output_type": "stream",
     "text": [
      "[1, 2, 3, 4, 5, 6, 7, 8, 9, 10, 11, 12, 13, 14, 15, 16, 17, 18, 19, 20]\n"
     ]
    }
   ],
   "source": [
    "# Exercise 11 - Generating Range of Numbers\n",
    "\n",
    "lst = list(range(1,21))\n",
    "print(lst)\n",
    "\n",
    "# Expected Output\n",
    "# [1, 2, 3, 4, 5, 6, 7, 8, 9, 10, 11, 12, 13, 14, 15, 16, 17, 18, 19, 20]"
   ]
  },
  {
   "cell_type": "code",
   "execution_count": 10,
   "metadata": {},
   "outputs": [
    {
     "name": "stdout",
     "output_type": "stream",
     "text": [
      "[10, 20, 30, 40, 50, 60, 70, 80, 90, 100, 110, 120, 130, 140, 150, 160, 170, 180, 190, 200]\n"
     ]
    }
   ],
   "source": [
    "# Exercise 12 - More Ranges\n",
    "\n",
    "# Question: Complete the script so that it produces the expected output. Please use my_range  as input data.\n",
    "\n",
    "my_range = range(1, 21)\n",
    "new_range = [x*10 for x in my_range]\n",
    "print(new_range)\n",
    "#  Expected output: \n",
    "\n",
    "# [10, 20, 30, 40, 50, 60, 70, 80, 90, 100, 110, 120, 130, 140, 150, 160, 170, 180, 190, 200] "
   ]
  },
  {
   "cell_type": "code",
   "execution_count": 12,
   "metadata": {},
   "outputs": [
    {
     "name": "stdout",
     "output_type": "stream",
     "text": [
      "['1', '2', '3', '4', '5', '6', '7', '8', '9', '10', '11', '12', '13', '14', '15', '16', '17', '18', '19', '20']\n"
     ]
    }
   ],
   "source": [
    "# Exercise 13 - Ranges of Strings\n",
    "\n",
    "# Question: Complete the script, so it generates the expected output using my_range  as input data. Please note that the items of the expected list output are all strings.\n",
    "\n",
    "my_range = range(1, 21)\n",
    "# print([str(x) for x in my_range])\n",
    "print(list(map(str,my_range)))\n",
    "#  Expected output: \n",
    "\n",
    "# ['1', '2', '3', '4', '5', '6', '7', '8', '9', '10', '11', '12', '13', '14', '15', '16', '17', '18', '19', '20']  "
   ]
  },
  {
   "cell_type": "code",
   "execution_count": 16,
   "metadata": {},
   "outputs": [
    {
     "name": "stdout",
     "output_type": "stream",
     "text": [
      "[1, 2, '1']\n"
     ]
    }
   ],
   "source": [
    "# Exercise 14 - Removing Duplicates\n",
    "\n",
    "# Question: Complete the script so that it removes duplicate items from the list a .\n",
    "\n",
    "a = [\"1\", 1, \"1\", 2]\n",
    "\n",
    "print(list(set(a)))\n",
    "# Expected output: \n",
    "\n",
    "#   ['1', 2, 1] "
   ]
  },
  {
   "cell_type": "code",
   "execution_count": 17,
   "metadata": {},
   "outputs": [
    {
     "name": "stdout",
     "output_type": "stream",
     "text": [
      "{'a': 1, 'b': 2}\n"
     ]
    }
   ],
   "source": [
    "# Exercise 15 - Simple Dictionary\n",
    "\n",
    "# Question: Create a dictionary that contains the keys a  and b  and their respective values 1  and 2 .\n",
    "\n",
    "dictionary = {\n",
    "    'a' : 1,\n",
    "    'b' : 2\n",
    "}\n",
    "\n",
    "print(dictionary)"
   ]
  },
  {
   "cell_type": "code",
   "execution_count": 19,
   "metadata": {},
   "outputs": [
    {
     "name": "stdout",
     "output_type": "stream",
     "text": [
      "2\n"
     ]
    }
   ],
   "source": [
    "# Exercise 16 - Accessing Dictionary Items\n",
    "\n",
    "# Question: Please complete the script so that it prints out the value of key b .\n",
    "\n",
    "d = {\"a\": 1, \"b\": 2}\n",
    "print(d[\"b\"])\n",
    "# Expected output: \n",
    "\n",
    "# 2  "
   ]
  },
  {
   "cell_type": "code",
   "execution_count": 20,
   "metadata": {},
   "outputs": [
    {
     "name": "stdout",
     "output_type": "stream",
     "text": [
      "3\n"
     ]
    }
   ],
   "source": [
    "# Exercise 17 - Dictionary Items Sum Up\n",
    "\n",
    "# Question: Calculate the sum of the values of keys a  and b .\n",
    "\n",
    "d = {\"a\": 1, \"b\": 2, \"c\": 3}\n",
    "print(d[\"a\"]+d[\"b\"])\n",
    "# Expected output: \n",
    "\n",
    "# 3  "
   ]
  },
  {
   "cell_type": "code",
   "execution_count": 31,
   "metadata": {},
   "outputs": [
    {
     "name": "stdout",
     "output_type": "stream",
     "text": [
      "('Surname', 'Smith')\n",
      "Smith\n"
     ]
    }
   ],
   "source": [
    "# Exercise 18 - KeyError\n",
    "\n",
    "# d = {'Name' : 'John', 'Surname' : 'Smith'}\n",
    "# print(d['Smith'])\n",
    "\n",
    "d = {'Name' : 'John', 'Surname' : 'Smith'}\n",
    "print(list(d.items())[1])\n",
    "print(d['Surname'])"
   ]
  },
  {
   "cell_type": "code",
   "execution_count": 32,
   "metadata": {},
   "outputs": [
    {
     "name": "stdout",
     "output_type": "stream",
     "text": [
      "{'a': 1, 'b': 2, 'c': 3}\n"
     ]
    }
   ],
   "source": [
    "# Exercise 19 - Add Dictionary Key\n",
    "\n",
    "# Question: Add a new pair of key (e.g. c ) and value (e.g. 3 ) to the dictionary and print out the new dictionary.\n",
    "\n",
    "d = {\"a\": 1, \"b\": 2}\n",
    "d['c'] = 3\n",
    "\n",
    "print(d)\n",
    "# Expected output: \n",
    "\n",
    "#   {'a': 1, 'c': 3, 'b': 2} "
   ]
  },
  {
   "cell_type": "code",
   "execution_count": 34,
   "metadata": {},
   "outputs": [
    {
     "name": "stdout",
     "output_type": "stream",
     "text": [
      "6\n"
     ]
    }
   ],
   "source": [
    "# Exercise 20 - Apply Function to Dictionary Items\n",
    "\n",
    "# Question: Calculate the sum of all dictionary values.\n",
    "\n",
    "d = {\"a\": 1, \"b\": 2, \"c\": 3}\n",
    "print(sum(d.values()))\n",
    "\n",
    "# Expected output: \n",
    "\n",
    "#  6 "
   ]
  },
  {
   "cell_type": "code",
   "execution_count": 37,
   "metadata": {},
   "outputs": [
    {
     "name": "stdout",
     "output_type": "stream",
     "text": [
      "{'a': 1}\n"
     ]
    }
   ],
   "source": [
    "# Exercise 21 - Dictionary Filtering\n",
    "\n",
    "# Question: Filter the dictionary by removing all items with a value of greater than 1.\n",
    "\n",
    "d = {\"a\": 1, \"b\": 2, \"c\": 3}\n",
    "new_d = {}\n",
    "for key,val in d.items():\n",
    "    if val>1:\n",
    "        continue\n",
    "    new_d[key] = val\n",
    "print(new_d)\n",
    "# Expected output: \n",
    "\n",
    "# {'a': 1}  \n",
    "\n"
   ]
  },
  {
   "cell_type": "code",
   "execution_count": 46,
   "metadata": {},
   "outputs": [
    {
     "name": "stdout",
     "output_type": "stream",
     "text": [
      "{'a': [1, 2, 3, 4, 5, 6, 7, 8, 9, 10],\n",
      " 'b': [11, 12, 13, 14, 15, 16, 17, 18, 19, 20],\n",
      " 'c': [21, 22, 23, 24, 25, 26, 27, 28, 29, 30]}\n"
     ]
    }
   ],
   "source": [
    "# Exercise 22 - Create List Dictionary\n",
    "from pprint import pprint\n",
    "\n",
    "dictionary = {}\n",
    "dictionary['a'] = list(range(1,11))\n",
    "dictionary['b'] = list(range(11,21))\n",
    "dictionary['c'] = list(range(21,31))\n",
    "\n",
    "pprint(dictionary)"
   ]
  },
  {
   "cell_type": "code",
   "execution_count": 49,
   "metadata": {},
   "outputs": [
    {
     "name": "stdout",
     "output_type": "stream",
     "text": [
      "13\n"
     ]
    }
   ],
   "source": [
    "# Exercise 23 - Multilevel Indexing\n",
    "\n",
    "# Question: Access the third value of key b  from the dictionary.\n",
    "\n",
    "from pprint import pprint\n",
    " \n",
    "d = dict(a = list(range(1, 11)), b = list(range(11, 21)), c = list(range(21, 31)))\n",
    "pprint(d['b'][2])\n",
    "\n",
    "# Expected output: \n",
    "\n",
    "# 13  \n",
    "\n"
   ]
  },
  {
   "cell_type": "code",
   "execution_count": 50,
   "metadata": {},
   "outputs": [
    {
     "name": "stdout",
     "output_type": "stream",
     "text": [
      "a has value [1, 2, 3, 4, 5, 6, 7, 8, 9, 10]\n",
      "b has value [11, 12, 13, 14, 15, 16, 17, 18, 19, 20]\n",
      "c has value [21, 22, 23, 24, 25, 26, 27, 28, 29, 30]\n"
     ]
    }
   ],
   "source": [
    "# Exercise 24 - Iterate Dictionary\n",
    "\n",
    "# Question: Please complete the script so that it prints out the expected output.\n",
    "\n",
    "d = dict(a = list(range(1, 11)), b = list(range(11, 21)), c = list(range(21, 31)))\n",
    "for key,val in d.items():\n",
    "    print(f'{key} has value {val}')\n",
    "\n",
    "# Expected output: \n",
    "\n",
    "# a has value [1, 2, 3, 4, 5, 6, 7, 8, 9, 10]\n",
    "# b has value [11, 12, 13, 14, 15, 16, 17, 18, 19, 20]\n",
    "# c has value [21, 22, 23, 24, 25, 26, 27, 28, 29, 30]"
   ]
  },
  {
   "cell_type": "code",
   "execution_count": 53,
   "metadata": {},
   "outputs": [
    {
     "name": "stdout",
     "output_type": "stream",
     "text": [
      "a\n",
      "b\n",
      "c\n",
      "d\n",
      "e\n",
      "f\n",
      "g\n",
      "h\n",
      "i\n",
      "j\n",
      "k\n",
      "l\n",
      "m\n",
      "n\n",
      "o\n",
      "p\n",
      "q\n",
      "r\n",
      "s\n",
      "t\n",
      "u\n",
      "v\n",
      "w\n",
      "x\n",
      "y\n",
      "z\n"
     ]
    }
   ],
   "source": [
    "# Exercise 25 - Print Alphabet\n",
    "import string\n",
    "for i in string.ascii_lowercase:\n",
    "    print(i)"
   ]
  },
  {
   "cell_type": "markdown",
   "metadata": {},
   "source": [
    "# Section 2"
   ]
  },
  {
   "cell_type": "code",
   "execution_count": 56,
   "metadata": {},
   "outputs": [
    {
     "name": "stdout",
     "output_type": "stream",
     "text": [
      "1\n",
      "2\n",
      "3\n",
      "4\n",
      "5\n",
      "6\n",
      "7\n",
      "8\n",
      "9\n",
      "10\n"
     ]
    }
   ],
   "source": [
    "# Exercise 26 - Print Range\n",
    "\n",
    "# Question: Make a script that prints out numbers from 1 to 10\n",
    "\n",
    "for i in range(1,11):\n",
    "    print(i)\n",
    "# Expected output:\n",
    "\n",
    "# 1\n",
    "# 2\n",
    "# 3\n",
    "# 4\n",
    "# 5\n",
    "# 6\n",
    "# 7\n",
    "# 8\n",
    "# 9\n",
    "# 10"
   ]
  },
  {
   "cell_type": "code",
   "execution_count": 57,
   "metadata": {},
   "outputs": [
    {
     "name": "stdout",
     "output_type": "stream",
     "text": [
      "0.5\n"
     ]
    }
   ],
   "source": [
    "# Exercise 27 - Acceleration Calculator\n",
    "\n",
    "# Question: \n",
    "\n",
    "# Create a function that calculates acceleration given initial velocity v1, final velocity v2, start time t1, and end time t2. \n",
    "# The formula for acceleration is:\n",
    "\n",
    "# To test your solution, call the function by inputting values 0, 10, 0, 20 for v1, v2, t1, and t2, respectively, \n",
    "# and you should get the expected output.\n",
    "\n",
    "def calculate_acceleration(v1,v2,t1,t2):\n",
    "    print((v2-v1)/(t2-t1))\n",
    "\n",
    "calculate_acceleration(0,10,0,20)\n",
    "# Expected output:\n",
    "\n",
    "# 0.5"
   ]
  },
  {
   "cell_type": "code",
   "execution_count": 61,
   "metadata": {},
   "outputs": [
    {
     "name": "stdout",
     "output_type": "stream",
     "text": [
      "50\n"
     ]
    }
   ],
   "source": [
    "# Exercise 28 - TypeError\n",
    "\n",
    "# Question:  Why is there an error in the code, and how would you fix it?\n",
    "\n",
    "def foo(a, b):\n",
    "    return a + b\n",
    " \n",
    "x = foo(2, 3) * 10\n",
    "print(x)"
   ]
  },
  {
   "cell_type": "code",
   "execution_count": 69,
   "metadata": {},
   "outputs": [
    {
     "name": "stdout",
     "output_type": "stream",
     "text": [
      "4071.5040790523717\n"
     ]
    }
   ],
   "source": [
    "# Exercise 29 - Liquid Volume Calculator\n",
    "\n",
    "# Question:  Please write a function that calculates liquid volume in a sphere using the following formula. \n",
    "# The radius r  is always 10, so consider making it a default parameter.\n",
    "from math import pi\n",
    "\n",
    "def liquid_volume(h,r=10):\n",
    "    return (4*pi*pow(r,3)/(3))- (pi*pow(h,2)*(3*r - h)/(3))\n",
    "\n",
    "print(liquid_volume(2))\n",
    "\n",
    "# You can then test your solution by passing 2 for h and you should get the expected output.\n",
    "\n",
    "# Expected output:\n",
    "\n",
    "# 4071.5040790523717"
   ]
  },
  {
   "cell_type": "code",
   "execution_count": 70,
   "metadata": {},
   "outputs": [],
   "source": [
    "# Exercise 30 - Arguments\n",
    "\n",
    "# Question:  Why do you get an error, and how would you fix it?\n",
    "\n",
    "def foo(b,a=2):\n",
    "    return a + b"
   ]
  },
  {
   "cell_type": "code",
   "execution_count": 72,
   "metadata": {},
   "outputs": [],
   "source": [
    "# Exercise 31 - Function Blueprint\n",
    "\n",
    "# Question:  Why is there an error in the code, and how would you fix it?\n",
    "\n",
    "def foo(a=1, b=2):\n",
    "    return a + b\n",
    " \n",
    "x = foo() - 1"
   ]
  },
  {
   "cell_type": "code",
   "execution_count": 73,
   "metadata": {},
   "outputs": [
    {
     "name": "stdout",
     "output_type": "stream",
     "text": [
      "3\n"
     ]
    }
   ],
   "source": [
    "# Exercise 32 - Global Variables\n",
    "\n",
    "# Question:  What will the following script output? Please try to do this by mind if you can.\n",
    "\n",
    "c = 1\n",
    "def foo():\n",
    "    return c\n",
    "c = 3\n",
    "print(foo())"
   ]
  },
  {
   "cell_type": "code",
   "execution_count": 74,
   "metadata": {},
   "outputs": [
    {
     "name": "stdout",
     "output_type": "stream",
     "text": [
      "2\n"
     ]
    }
   ],
   "source": [
    "# Exercise 33 - Local Variable\n",
    "\n",
    "# Question:  Here's another similar exercise. What will the following script output? Try to do this mentally if you can.\n",
    "\n",
    "c = 1\n",
    "def foo():\n",
    "    c = 2\n",
    "    return c\n",
    "c = 3\n",
    "print(foo())\n"
   ]
  },
  {
   "cell_type": "code",
   "execution_count": 77,
   "metadata": {},
   "outputs": [
    {
     "name": "stdout",
     "output_type": "stream",
     "text": [
      "1\n"
     ]
    }
   ],
   "source": [
    "# Exercise 34 - Local Vs. Global Variables\n",
    "\n",
    "# Question: The following script throws a NameError  in the last line saying that c  is not defined. \n",
    "# Please fix the function so that there is no error and the  last line can print out the value of c  (i.e. 1 ).\n",
    "\n",
    "def foo(): \n",
    "    global c\n",
    "    c = 1 \n",
    "    return c \n",
    "foo() \n",
    "print(c)\n",
    "\n",
    "# Expected output:\n",
    "\n",
    "# 1 "
   ]
  },
  {
   "cell_type": "code",
   "execution_count": 79,
   "metadata": {},
   "outputs": [
    {
     "data": {
      "text/plain": [
       "3"
      ]
     },
     "execution_count": 79,
     "metadata": {},
     "output_type": "execute_result"
    }
   ],
   "source": [
    "# Exercise 35 - String Splitter\n",
    "\n",
    "# Question: Create a function that takes any string as input and returns the number of words for that string.\n",
    "\n",
    "def no_of_words(stirng1:str):\n",
    "    lst= stirng1.split(' ')\n",
    "    x = len(lst)\n",
    "    return x\n",
    "\n",
    "strings = 'hello world in'\n",
    "no_of_words(strings) "
   ]
  },
  {
   "cell_type": "code",
   "execution_count": null,
   "metadata": {},
   "outputs": [],
   "source": [
    "# Exercise 36 - Word Counter\n",
    "\n",
    "# Question: Please download the words1.txt file from the attachment and then create a Python function that takes a \n",
    "# text file as input and returns the number of words contained in the text file.\n",
    "\n",
    "\n",
    "\n",
    "# Expected output:\n",
    "\n",
    "# 10 \n",
    "\n"
   ]
  }
 ],
 "metadata": {
  "kernelspec": {
   "display_name": "Python 3",
   "language": "python",
   "name": "python3"
  },
  "language_info": {
   "codemirror_mode": {
    "name": "ipython",
    "version": 3
   },
   "file_extension": ".py",
   "mimetype": "text/x-python",
   "name": "python",
   "nbconvert_exporter": "python",
   "pygments_lexer": "ipython3",
   "version": "3.11.4"
  },
  "orig_nbformat": 4
 },
 "nbformat": 4,
 "nbformat_minor": 2
}
